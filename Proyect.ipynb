{
 "cells": [
  {
   "cell_type": "markdown",
   "metadata": {
    "tags": [
     "DATA"
    ]
   },
   "source": [
    "# IA AntiSpam\n",
    "<details>\n",
    "<summary>The project involves the following key components:</summary>\n",
    "\n",
    "1. Data Collection: Gathering a diverse and representative dataset of spam and non-spam messages to train the machine learning models.\n",
    "\n",
    "2. Data Preprocessing: Cleaning and preprocessing the collected data to remove noise, standardize formats, and extract relevant features.\n",
    "\n",
    "3. Feature Engineering: Transforming the preprocessed data into a suitable format for training the machine learning models, including the extraction of text-based features such as word frequency, n-grams, and semantic analysis.\n",
    "\n",
    "4. Model Training: Developing and training machine learning models using various algorithms such as Naive Bayes, Support Vector Machines, or Deep Learning models like Recurrent Neural Networks (RNNs) or Transformers.\n",
    "\n",
    "5. Model Evaluation: Assessing the performance of the trained models using appropriate evaluation metrics such as accuracy, precision, recall, and F1-score.\n",
    "\n",
    "6. Model Deployment: Integrating the trained model into a production environment, such as an email server or messaging platform, to automatically classify incoming messages as spam or non-spam.\n",
    "</details>\n",
    "\n",
    "\n",
    "\n",
    "\n"
   ]
  },
  {
   "cell_type": "markdown",
   "metadata": {},
   "source": [
    "## Imports"
   ]
  },
  {
   "cell_type": "code",
   "execution_count": 1,
   "metadata": {},
   "outputs": [],
   "source": [
    "import pandas as pd\n",
    "import numpy as np\n",
    "import re\n",
    "import nltk\n",
    "from nltk.corpus import stopwords\n",
    "from nltk.stem import WordNetLemmatizer\n",
    "import random\n",
    "import os\n",
    "import mailbox"
   ]
  },
  {
   "cell_type": "markdown",
   "metadata": {},
   "source": [
    "## Data Collection"
   ]
  },
  {
   "cell_type": "code",
   "execution_count": 2,
   "metadata": {},
   "outputs": [
    {
     "name": "stderr",
     "output_type": "stream",
     "text": [
      "530.35s - pydevd: Sending message related to process being replaced timed-out after 5 seconds\n"
     ]
    },
    {
     "name": "stdout",
     "output_type": "stream",
     "text": [
      "/bin/bash: unrar: command not found\n"
     ]
    },
    {
     "name": "stderr",
     "output_type": "stream",
     "text": [
      "535.63s - pydevd: Sending message related to process being replaced timed-out after 5 seconds\n"
     ]
    },
    {
     "name": "stdout",
     "output_type": "stream",
     "text": [
      "/bin/bash: unrar: command not found\n"
     ]
    }
   ],
   "source": [
    "# unzip data.rar on data folder\n",
    "!unzip spam.rar\n",
    "!unzip easy_ham.rar"
   ]
  }
 ],
 "metadata": {
  "kernelspec": {
   "display_name": "Python 3",
   "language": "python",
   "name": "python3"
  },
  "language_info": {
   "codemirror_mode": {
    "name": "ipython",
    "version": 3
   },
   "file_extension": ".py",
   "mimetype": "text/x-python",
   "name": "python",
   "nbconvert_exporter": "python",
   "pygments_lexer": "ipython3",
   "version": "3.10.13"
  }
 },
 "nbformat": 4,
 "nbformat_minor": 2
}
