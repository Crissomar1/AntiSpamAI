{
  "cells": [
    {
      "cell_type": "markdown",
      "metadata": {
        "id": "view-in-github",
        "colab_type": "text"
      },
      "source": [
        "<a href=\"https://colab.research.google.com/github/Crissomar1/AntiSpamAI/blob/main/Proyect.ipynb\" target=\"_parent\"><img src=\"https://colab.research.google.com/assets/colab-badge.svg\" alt=\"Open In Colab\"/></a>"
      ]
    },
    {
      "cell_type": "markdown",
      "metadata": {
        "id": "vTBKzBu7k-4L",
        "tags": [
          "DATA"
        ]
      },
      "source": [
        "# IA AntiSpam\n",
        "<details>\n",
        "<summary>The project involves the following key components:</summary>\n",
        "\n",
        "1. Data Collection: Gathering a diverse and representative dataset of spam and non-spam messages to train the machine learning models.\n",
        "\n",
        "2. Data Preprocessing: Cleaning and preprocessing the collected data to remove noise, standardize formats, and extract relevant features.\n",
        "\n",
        "3. Feature Engineering: Transforming the preprocessed data into a suitable format for training the machine learning models, including the extraction of text-based features such as word frequency, n-grams, and semantic analysis.\n",
        "\n",
        "4. Model Training: Developing and training machine learning models using various algorithms such as Naive Bayes, Support Vector Machines, or Deep Learning models like Recurrent Neural Networks (RNNs) or Transformers.\n",
        "\n",
        "5. Model Evaluation: Assessing the performance of the trained models using appropriate evaluation metrics such as accuracy, precision, recall, and F1-score.\n",
        "\n",
        "6. Model Deployment: Integrating the trained model into a production environment, such as an email server or messaging platform, to automatically classify incoming messages as spam or non-spam.\n",
        "</details>\n",
        "\n",
        "\n",
        "\n",
        "\n"
      ]
    },
    {
      "cell_type": "markdown",
      "metadata": {
        "id": "0Txy_1Mwk-4N"
      },
      "source": [
        "## Imports"
      ]
    },
    {
      "cell_type": "code",
      "execution_count": null,
      "metadata": {
        "colab": {
          "base_uri": "https://localhost:8080/"
        },
        "id": "SU97GT_7k-4N",
        "outputId": "adfdbce4-9058-4088-f0a6-9788ab7d6aa9"
      },
      "outputs": [
        {
          "name": "stderr",
          "output_type": "stream",
          "text": [
            "[nltk_data] Downloading package stopwords to /root/nltk_data...\n",
            "[nltk_data]   Package stopwords is already up-to-date!\n",
            "[nltk_data] Downloading package wordnet to /root/nltk_data...\n",
            "[nltk_data]   Package wordnet is already up-to-date!\n"
          ]
        },
        {
          "data": {
            "text/plain": [
              "True"
            ]
          },
          "execution_count": 1,
          "metadata": {},
          "output_type": "execute_result"
        }
      ],
      "source": [
        "import pandas as pd\n",
        "import numpy as np\n",
        "import re\n",
        "import nltk\n",
        "from nltk.corpus import stopwords\n",
        "from nltk.stem import WordNetLemmatizer\n",
        "import random\n",
        "import os\n",
        "import mailbox\n",
        "from collections import Counter\n",
        "\n",
        "nltk.download('stopwords')  # Uncomment if stopwords haven't been downloaded\n",
        "nltk.download('wordnet')  # Uncomment if WordNetLemmatizer isn't present"
      ]
    },
    {
      "cell_type": "markdown",
      "metadata": {
        "id": "Gg1PrzVZk-4O"
      },
      "source": [
        "## Data Collection"
      ]
    },
    {
      "cell_type": "code",
      "execution_count": null,
      "metadata": {
        "colab": {
          "base_uri": "https://localhost:8080/"
        },
        "id": "IV5jIMSvk-4P",
        "outputId": "c7bf0e54-ec6b-4c9b-843f-52c8d89c3051"
      },
      "outputs": [
        {
          "name": "stdout",
          "output_type": "stream",
          "text": [
            "\u001b[33m\r0% [Working]\u001b[0m\r            \rHit:1 https://cloud.r-project.org/bin/linux/ubuntu jammy-cran40/ InRelease\n",
            "Hit:2 https://developer.download.nvidia.com/compute/cuda/repos/ubuntu2204/x86_64  InRelease\n",
            "Hit:3 http://archive.ubuntu.com/ubuntu jammy InRelease\n",
            "Hit:4 http://archive.ubuntu.com/ubuntu jammy-updates InRelease\n",
            "Hit:5 http://security.ubuntu.com/ubuntu jammy-security InRelease\n",
            "Hit:6 http://archive.ubuntu.com/ubuntu jammy-backports InRelease\n",
            "Hit:7 https://ppa.launchpadcontent.net/c2d4u.team/c2d4u4.0+/ubuntu jammy InRelease\n",
            "Hit:8 https://ppa.launchpadcontent.net/deadsnakes/ppa/ubuntu jammy InRelease\n",
            "Hit:9 https://ppa.launchpadcontent.net/graphics-drivers/ppa/ubuntu jammy InRelease\n",
            "Hit:10 https://ppa.launchpadcontent.net/ubuntugis/ppa/ubuntu jammy InRelease\n",
            "Reading package lists... Done\n",
            "Building dependency tree... Done\n",
            "Reading state information... Done\n",
            "46 packages can be upgraded. Run 'apt list --upgradable' to see them.\n",
            "Reading package lists... Done\n",
            "Building dependency tree... Done\n",
            "Reading state information... Done\n",
            "unrar is already the newest version (1:6.1.5-1).\n",
            "0 upgraded, 0 newly installed, 0 to remove and 46 not upgraded.\n",
            "\n",
            "UNRAR 6.11 beta 1 freeware      Copyright (c) 1993-2022 Alexander Roshal\n",
            "\n",
            "\n",
            "Extracting from spam.rar\n",
            "\n",
            "\n",
            "Would you like to replace the existing file spam/0390.176f9525715411d7e2ce36e5bab4c770\n",
            "  2964 bytes, modified on 2002-10-10 20:52\n",
            "with a new one\n",
            "  2964 bytes, modified on 2002-10-10 20:52\n",
            "\n",
            "[Y]es, [N]o, [A]ll, n[E]ver, [R]ename, [Q]uit \n",
            "User break\n",
            "\n",
            "User break\n",
            "\n",
            "User break\n",
            "\n",
            "UNRAR 6.11 beta 1 freeware      Copyright (c) 1993-2022 Alexander Roshal\n",
            "\n",
            "\n",
            "Extracting from easy_ham.rar\n",
            "\n",
            "\n",
            "Would you like to replace the existing file easy_ham/2000.f5754a180fc6394657dc27921f88aaae\n",
            "  1620 bytes, modified on 2002-10-10 20:52\n",
            "with a new one\n",
            "  1620 bytes, modified on 2002-10-10 20:52\n",
            "\n",
            "[Y]es, [N]o, [A]ll, n[E]ver, [R]ename, [Q]uit \n",
            "User break\n",
            "\n",
            "User break\n"
          ]
        }
      ],
      "source": [
        "# install required packages\n",
        "!sudo apt update\n",
        "!sudo apt install unrar\n",
        "# unrar spam.rar and easy_ham.rar on data folder\n",
        "if not os.path.exists('spam.rar'):\n",
        "    !wget https://raw.githubusercontent.com/Crissomar1/AntiSpamAI/main/spam.rar\n",
        "if not os.path.exists('easy_ham.rar'):\n",
        "    !wget https://raw.githubusercontent.com/Crissomar1/AntiSpamAI/main/easy_ham.rar\n",
        "!unrar x spam.rar spam/\n",
        "!unrar x easy_ham.rar easy_ham/"
      ]
    },
    {
      "cell_type": "markdown",
      "metadata": {
        "id": "p9jVWLoxk-4P"
      },
      "source": [
        "## Data preprocesing"
      ]
    },
    {
      "cell_type": "code",
      "execution_count": null,
      "metadata": {
        "colab": {
          "base_uri": "https://localhost:8080/"
        },
        "id": "VFWCyxsck-4P",
        "outputId": "9bbc427d-a7ce-41b2-f6de-5f6dfc57a89a"
      },
      "outputs": [
        {
          "name": "stdout",
          "output_type": "stream",
          "text": [
            "Correos Cargados\n",
            "Vocabulario Cargado\n"
          ]
        }
      ],
      "source": [
        "email_list = []\n",
        "carpetas = ['easy_ham', 'spam']\n",
        "for carpeta in carpetas:\n",
        "    for archivo in os.listdir(carpeta):\n",
        "        # Abrir el archivo como un buzón de correo\n",
        "        mbox = mailbox.mbox(carpeta + '/' + archivo)\n",
        "        # Agregar cada correo en el buzón a la lista de correos\n",
        "        for correo in mbox:\n",
        "            email_list.append(correo)\n",
        "    #guardar la cantidad de correos en cada carpeta en ua variable\n",
        "    if carpeta == 'easy_ham':\n",
        "        easy_ham_count = len(email_list)\n",
        "    else:\n",
        "        spam_count = len(email_list) - easy_ham_count\n",
        "\n",
        "print(\"Correos Cargados\")\n",
        "\n",
        "def flatten_payload(email):\n",
        "    email_text = email.get_payload()\n",
        "    if isinstance(email_text, list):\n",
        "        return ' '.join(flatten_payload(part) for part in email_text)\n",
        "    else:\n",
        "        return email_text\n",
        "\n",
        "\n",
        "def preprocess_email(email):\n",
        "    email_text = email.get_payload()\n",
        "    email_text = flatten_payload(email)\n",
        "    # 1. Conversión a minúsculas:\n",
        "    email_text = email_text.lower()\n",
        "\n",
        "    # 2. Eliminación de caracteres especiales y URLs:\n",
        "    email_text = re.sub(r'[^a-z0-9\\s]', ' ', email_text)  # Sustituye caracteres especiales\n",
        "    email_text = re.sub(r'http\\S+', ' ', email_text)  # Elimina URLs\n",
        "\n",
        "    # 3. Tokenización (separa el texto en palabras):\n",
        "    words = email_text.split()\n",
        "\n",
        "    # 4. Eliminación de stopwords (palabras de enlace frecuentes):\n",
        "    stop_words = set(stopwords.words('english'))\n",
        "    words = [word for word in words if word not in stop_words]\n",
        "\n",
        "    # 5. Lematización (reduce palabras a su raíz):\n",
        "    lemmatizer = WordNetLemmatizer()\n",
        "    words = [lemmatizer.lemmatize(word) for word in words]\n",
        "\n",
        "    return ' '.join(words)\n",
        "\n",
        "def create_vocabulary(email_list, frequency_threshold=5):\n",
        "    # Initialize a Counter object to store word frequencies\n",
        "    word_freq = Counter()\n",
        "\n",
        "    # Iterate over each email in the list\n",
        "    for email in email_list:\n",
        "        # Convert the email into a list of preprocessed words\n",
        "        words = preprocess_email(email).split()\n",
        "\n",
        "        # Update word frequencies\n",
        "        word_freq.update(words)\n",
        "\n",
        "    # Filter out uncommon words\n",
        "    vocab_list = [word for word, freq in word_freq.items() if freq >= frequency_threshold]\n",
        "\n",
        "    # Sort the vocabulary list\n",
        "    vocab_list.sort()\n",
        "\n",
        "    return vocab_list\n",
        "\n",
        "\n",
        "# Guarda el vocabulario en un archivo de texto\n",
        "if os.path.exists('vocab.txt'):\n",
        "    with open('vocab.txt', 'r') as f:\n",
        "        vocab = [line.strip() for line in f]\n",
        "    print(\"Vocabulario Cargado\")\n",
        "else:\n",
        "    vocab = create_vocabulary(email_list,5)\n",
        "    with open('vocab.txt', 'w') as f:\n",
        "        for word in vocab:\n",
        "            f.write(word + '\\n')\n",
        "    print(\"Vocabulario creado y guardado\")\n",
        "\n"
      ]
    },
    {
      "cell_type": "markdown",
      "metadata": {
        "id": "Anj0GR4Dk-4Q"
      },
      "source": [
        "## Data Encoding"
      ]
    },
    {
      "cell_type": "code",
      "execution_count": null,
      "metadata": {
        "colab": {
          "base_uri": "https://localhost:8080/"
        },
        "id": "k4NereM5k-4Q",
        "outputId": "9fc31200-a37d-444f-ee27-7bb026c7abfb"
      },
      "outputs": [
        {
          "name": "stdout",
          "output_type": "stream",
          "text": [
            "DataFrame Cargado\n"
          ]
        }
      ],
      "source": [
        "def one_hot_encode(text, vocab_dict):\n",
        "    # Convierte el texto en una lista de palabras preprocesadas\n",
        "    words = preprocess_email(text)\n",
        "\n",
        "    # Crea un vector de ceros del tamaño del vocabulario\n",
        "    encoded_email = np.zeros(len(vocab))\n",
        "\n",
        "    # Asigna 1 a la posición correspondiente a cada palabra en el vocabulario\n",
        "    for word in words:\n",
        "        if word in vocab_dict:\n",
        "            encoded_email[vocab_dict[word]] = 1\n",
        "\n",
        "    return encoded_email\n",
        "\n",
        "def DataFrame_GEN(email_list, spam_count, easy_ham_count):\n",
        "    # Divide la lista de correos en correos de spam y ham\n",
        "    spam_emails = email_list[:spam_count]\n",
        "    ham_emails = email_list[spam_count:]\n",
        "\n",
        "    # Agrega los correos electrónicos codificados a un DataFrame\n",
        "\n",
        "    # Crea un DataFrame para almacenar los correos electrónicos y sus etiquetas\n",
        "    email_df = pd.DataFrame(columns=['text', 'label'])\n",
        "\n",
        "    # Crea una lista de correos electrónicos codificados\n",
        "    encoded_emails = []\n",
        "    vocab_dict = {word: i for i, word in enumerate(vocab)}\n",
        "\n",
        "    # Codifica los correos electrónicos de spam\n",
        "    encoded_emails = [one_hot_encode(email, vocab_dict) for email in spam_emails]\n",
        "\n",
        "    print(\"Spam Codificado\")\n",
        "\n",
        "    # Codifica los correos electrónicos de ham\n",
        "    encoded_emails += [one_hot_encode(email, vocab_dict) for email in ham_emails]\n",
        "\n",
        "    print(\"Ham Codificado\")\n",
        "\n",
        "    # Agrega los correos electrónicos codificados al DataFrame\n",
        "\n",
        "    email_df['text'] = encoded_emails\n",
        "    email_df['label'] = ['spam'] * spam_count + ['ham'] * easy_ham_count\n",
        "\n",
        "    # Guarda el DataFrame en un archivo CSV\n",
        "    email_df.to_pickle('emails.pkl')\n",
        "\n",
        "if os.path.exists('emails.pkl'):\n",
        "    email_df = pd.read_pickle('emails.pkl')\n",
        "    print(\"DataFrame Cargado\")\n",
        "else:\n",
        "    DataFrame_GEN(email_list, spam_count, easy_ham_count)\n",
        "    print(\"DataFrame Creado y Guardado\")"
      ]
    },
    {
      "cell_type": "markdown",
      "metadata": {
        "id": "d7MIVUpDk-4Q"
      },
      "source": [
        "## Model Trainig"
      ]
    },
    {
      "cell_type": "code",
      "execution_count": null,
      "metadata": {
        "colab": {
          "base_uri": "https://localhost:8080/"
        },
        "id": "DYPvp2qBk-4Q",
        "outputId": "00e32331-8a86-462f-f939-1fc2d136455e"
      },
      "outputs": [
        {
          "ename": "ModuleNotFoundError",
          "evalue": "No module named 'tensorflow'",
          "output_type": "error",
          "traceback": [
            "\u001b[1;31m---------------------------------------------------------------------------\u001b[0m",
            "\u001b[1;31mModuleNotFoundError\u001b[0m                       Traceback (most recent call last)",
            "Cell \u001b[1;32mIn[1], line 2\u001b[0m\n\u001b[0;32m      1\u001b[0m \u001b[38;5;28;01mfrom\u001b[39;00m \u001b[38;5;21;01msklearn\u001b[39;00m\u001b[38;5;21;01m.\u001b[39;00m\u001b[38;5;21;01mmodel_selection\u001b[39;00m \u001b[38;5;28;01mimport\u001b[39;00m train_test_split\n\u001b[1;32m----> 2\u001b[0m \u001b[38;5;28;01mfrom\u001b[39;00m \u001b[38;5;21;01mtensorflow\u001b[39;00m \u001b[38;5;28;01mimport\u001b[39;00m keras\n\u001b[0;32m      3\u001b[0m \u001b[38;5;28;01mfrom\u001b[39;00m \u001b[38;5;21;01mkeras\u001b[39;00m \u001b[38;5;28;01mimport\u001b[39;00m layers\n\u001b[0;32m      4\u001b[0m \u001b[38;5;28;01mfrom\u001b[39;00m \u001b[38;5;21;01mkeras\u001b[39;00m \u001b[38;5;28;01mimport\u001b[39;00m Input\n",
            "\u001b[1;31mModuleNotFoundError\u001b[0m: No module named 'tensorflow'"
          ]
        }
      ],
      "source": [
        "from sklearn.model_selection import train_test_split\n",
        "from tensorflow import keras\n",
        "from keras import layers\n",
        "from keras import Input\n",
        "\n",
        "with open('vocab.txt', 'r') as file:\n",
        "    vocab = file.read().splitlines()\n",
        "\n",
        "# Read the emails.pkl dataframe\n",
        "emails_df = pd.read_pickle('emails.pkl')\n",
        "\n",
        "# use Random Oversampling Ensembles to balance the dataset\n",
        "spam_df = emails_df[emails_df['label'] == 'spam']\n",
        "ham_df = emails_df[emails_df['label'] == 'ham']\n",
        "\n",
        "# Oversample the spam emails\n",
        "spam_df = spam_df.sample(len(ham_df), replace=True)\n",
        "\n",
        "# Combine the oversampled spam emails with the ham emails\n",
        "emails_df = pd.concat([spam_df, ham_df])\n",
        "\n",
        "# Shuffle the dataframe\n",
        "emails_df = emails_df.sample(frac=1).reset_index(drop=True)\n",
        "\n",
        "# change emails_df['label'] to 1 and 0\n",
        "emails_df['label'] = emails_df['label'].apply(lambda x: 1 if x == 'spam' else 0)\n",
        "\n",
        "# Separate the data into train, test, and evaluation sets\n",
        "train_set, test_set = train_test_split(emails_df, test_size=0.2)\n",
        "test_set, eval_set = train_test_split(test_set, test_size=0.5)\n",
        "\n",
        "\n",
        "# Create he anti-spam AI model\n",
        "model = keras.Sequential([\n",
        "    Input(shape=(len(vocab),)),\n",
        "    layers.Dense(64, activation='relu'),\n",
        "    layers.Dense(1, activation='sigmoid')\n",
        "])\n",
        "\n",
        "model.compile(optimizer='adam', loss='binary_crossentropy', metrics=['accuracy'])\n",
        "\n",
        "# matrix with the encoded emails\n",
        "X = np.array(train_set['text'].to_list())\n",
        "\n",
        "Y = np.array(train_set['label'].to_list())\n",
        "\n",
        "X_val = np.array(test_set['text'].to_list())\n",
        "y_val = np.array(test_set['label'].to_list())\n",
        "\n",
        "# Train the model\n",
        "model.fit(X, Y, epochs=200,validation_data=(X_val, y_val))\n",
        "\n",
        "# Save the model\n",
        "model.save('spam_model.keras')\n"
      ]
    },
    {
      "cell_type": "markdown",
      "metadata": {
        "id": "UAoCkU3jOG7g"
      },
      "source": [
        "## Evaluate the model"
      ]
    },
    {
      "cell_type": "code",
      "execution_count": null,
      "metadata": {
        "colab": {
          "base_uri": "https://localhost:8080/",
          "height": 524
        },
        "id": "_g_2tNcUOG7g",
        "outputId": "e1c70529-b375-4456-a7e0-f32aa23ad2b6"
      },
      "outputs": [
        {
          "data": {
            "image/png": "[encoded data removed]",
            "text/plain": [
              "<Figure size 640x480 with 1 Axes>"
            ]
          },
          "metadata": {},
          "output_type": "display_data"
        },
        {
          "name": "stdout",
          "output_type": "stream",
          "text": [
            "56/56 [==============================] - 0s 5ms/step\n",
            "[[1.485e+03 0.000e+00]\n",
            " [2.940e+02 1.000e+00]]\n"
          ]
        }
      ],
      "source": [
        "# Evaluate the model\n",
        "# X = np.array(eval_set['text'].to_list())\n",
        "# Y = np.array(eval_set['label'].to_list())\n",
        "# X = np.array(emails_df['text'].to_list())\n",
        "# Y = np.array(emails_df['label'].to_list())\n",
        "\n",
        "# model.evaluate(X, Y)\n",
        "\n",
        "import matplotlib.pyplot as plt\n",
        "history = model.history\n",
        "training_loss = history.history['loss']\n",
        "validation_loss = history.history['val_loss']\n",
        "plt.plot(training_loss, label='Training Loss')\n",
        "plt.plot(validation_loss, label='Validation Loss')\n",
        "\n",
        "# Add labels and title\n",
        "plt.xlabel('Epoch')\n",
        "plt.ylabel('Loss')\n",
        "plt.title('Training and Validation Loss over Epochs')\n",
        "\n",
        "# Add legend and show plot\n",
        "plt.legend()\n",
        "plt.show()\n",
        "# confusion matrix\n",
        "\n",
        "predictions = model.predict(X)\n",
        "predictions = (predictions > 0.5).astype(int)\n",
        "\n",
        "confusion_matrix = np.zeros((2, 2))\n",
        "for i in range(len(Y)):\n",
        "    confusion_matrix[Y[i]][predictions[i]] += 1\n",
        "print(confusion_matrix)\n"
      ]
    }
  ],
  "metadata": {
    "accelerator": "GPU",
    "colab": {
      "gpuType": "T4",
      "provenance": [],
      "include_colab_link": true
    },
    "kernelspec": {
      "display_name": "Python 3",
      "name": "python3"
    },
    "language_info": {
      "codemirror_mode": {
        "name": "ipython",
        "version": 3
      },
      "file_extension": ".py",
      "mimetype": "text/x-python",
      "name": "python",
      "nbconvert_exporter": "python",
      "pygments_lexer": "ipython3",
      "version": "3.10.11"
    }
  },
  "nbformat": 4,
  "nbformat_minor": 0
}